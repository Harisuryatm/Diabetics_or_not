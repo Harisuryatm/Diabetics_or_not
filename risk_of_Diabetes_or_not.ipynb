{
 "cells": [
  {
   "cell_type": "markdown",
   "metadata": {},
   "source": [
    "## Project 2:  using Multilayer Neural Network\n",
    "\n",
    "Prima Indians dataset has the following measurement of their blood sugar level , BMI , Insulin level that is labeled with that person is at risk of diabetes or not within five years of the initial measurement. Using machine learning ,Health care Industry is revolutionizing (not only that)..The dataset is provided by the National Institute of Diabetes and Digestive and Kidney Diseases (and hosted by Kaggle).\n"
   ]
  },
  {
   "cell_type": "markdown",
   "metadata": {},
   "source": [
    "Before modelling the dataset with any Algorithm ,.first we need to inspect insights from the data that we have.    \n",
    "Classification"
   ]
  },
  {
   "cell_type": "code",
   "execution_count": 333,
   "metadata": {},
   "outputs": [],
   "source": [
    "#importing libraries \n",
    "import numpy as np                # matrix representation\n",
    "import pandas as pd               # data processing\n",
    "import matplotlib.pyplot as plt   # data visualization\n",
    "import seaborn as sns             # high-level data visualization\n",
    "%matplotlib inline            \n",
    "\n",
    "from sklearn.preprocessing import StandardScaler         #ScikitLearn - for standardizing data to the curve\n",
    "from sklearn.model_selection import train_test_split     #scikitLearn - for splitting dataset into training and testing\n",
    "from sklearn.metrics import confusion_matrix , roc_curve           #classifying metrics\n",
    "\n",
    "from keras.models import Sequential    #keras - Building NN ,   [Sequential - stacking layers on top of one another]              \n",
    "from keras.layers import Dense         #to create hidden layers [Dense - connected with every other units]"
   ]
  },
  {
   "cell_type": "code",
   "execution_count": 265,
   "metadata": {},
   "outputs": [],
   "source": [
    "#using pandas to get the dataset from csv file that we donloaded from kaggle\n",
    "data = pd.read_csv('diabetes.csv')"
   ]
  },
  {
   "cell_type": "code",
   "execution_count": 266,
   "metadata": {},
   "outputs": [
    {
     "data": {
      "text/html": [
       "<div>\n",
       "<style scoped>\n",
       "    .dataframe tbody tr th:only-of-type {\n",
       "        vertical-align: middle;\n",
       "    }\n",
       "\n",
       "    .dataframe tbody tr th {\n",
       "        vertical-align: top;\n",
       "    }\n",
       "\n",
       "    .dataframe thead th {\n",
       "        text-align: right;\n",
       "    }\n",
       "</style>\n",
       "<table border=\"1\" class=\"dataframe\">\n",
       "  <thead>\n",
       "    <tr style=\"text-align: right;\">\n",
       "      <th></th>\n",
       "      <th>Pregnancies</th>\n",
       "      <th>Glucose</th>\n",
       "      <th>BloodPressure</th>\n",
       "      <th>SkinThickness</th>\n",
       "      <th>Insulin</th>\n",
       "      <th>BMI</th>\n",
       "      <th>DiabetesPedigreeFunction</th>\n",
       "      <th>Age</th>\n",
       "      <th>Outcome</th>\n",
       "    </tr>\n",
       "  </thead>\n",
       "  <tbody>\n",
       "    <tr>\n",
       "      <th>0</th>\n",
       "      <td>6</td>\n",
       "      <td>148</td>\n",
       "      <td>72</td>\n",
       "      <td>35</td>\n",
       "      <td>0</td>\n",
       "      <td>33.6</td>\n",
       "      <td>0.627</td>\n",
       "      <td>50</td>\n",
       "      <td>1</td>\n",
       "    </tr>\n",
       "    <tr>\n",
       "      <th>1</th>\n",
       "      <td>1</td>\n",
       "      <td>85</td>\n",
       "      <td>66</td>\n",
       "      <td>29</td>\n",
       "      <td>0</td>\n",
       "      <td>26.6</td>\n",
       "      <td>0.351</td>\n",
       "      <td>31</td>\n",
       "      <td>0</td>\n",
       "    </tr>\n",
       "    <tr>\n",
       "      <th>2</th>\n",
       "      <td>8</td>\n",
       "      <td>183</td>\n",
       "      <td>64</td>\n",
       "      <td>0</td>\n",
       "      <td>0</td>\n",
       "      <td>23.3</td>\n",
       "      <td>0.672</td>\n",
       "      <td>32</td>\n",
       "      <td>1</td>\n",
       "    </tr>\n",
       "    <tr>\n",
       "      <th>3</th>\n",
       "      <td>1</td>\n",
       "      <td>89</td>\n",
       "      <td>66</td>\n",
       "      <td>23</td>\n",
       "      <td>94</td>\n",
       "      <td>28.1</td>\n",
       "      <td>0.167</td>\n",
       "      <td>21</td>\n",
       "      <td>0</td>\n",
       "    </tr>\n",
       "    <tr>\n",
       "      <th>4</th>\n",
       "      <td>0</td>\n",
       "      <td>137</td>\n",
       "      <td>40</td>\n",
       "      <td>35</td>\n",
       "      <td>168</td>\n",
       "      <td>43.1</td>\n",
       "      <td>2.288</td>\n",
       "      <td>33</td>\n",
       "      <td>1</td>\n",
       "    </tr>\n",
       "  </tbody>\n",
       "</table>\n",
       "</div>"
      ],
      "text/plain": [
       "   Pregnancies  Glucose  BloodPressure  SkinThickness  Insulin   BMI  \\\n",
       "0            6      148             72             35        0  33.6   \n",
       "1            1       85             66             29        0  26.6   \n",
       "2            8      183             64              0        0  23.3   \n",
       "3            1       89             66             23       94  28.1   \n",
       "4            0      137             40             35      168  43.1   \n",
       "\n",
       "   DiabetesPedigreeFunction  Age  Outcome  \n",
       "0                     0.627   50        1  \n",
       "1                     0.351   31        0  \n",
       "2                     0.672   32        1  \n",
       "3                     0.167   21        0  \n",
       "4                     2.288   33        1  "
      ]
     },
     "execution_count": 266,
     "metadata": {},
     "output_type": "execute_result"
    }
   ],
   "source": [
    "#to see the first five rows from data\n",
    "data.head()"
   ]
  },
  {
   "cell_type": "markdown",
   "metadata": {},
   "source": [
    "Here ,            \n",
    "features        - Pregnencies , Glucose , BloodPressure , SkinThickness , Insulin , BMI , DPF , Age                 \n",
    "target or label - Outcome (0 - No Diabetes , 1 - Diabetes)"
   ]
  },
  {
   "cell_type": "code",
   "execution_count": 267,
   "metadata": {},
   "outputs": [
    {
     "data": {
      "text/plain": [
       "(768, 9)"
      ]
     },
     "execution_count": 267,
     "metadata": {},
     "output_type": "execute_result"
    }
   ],
   "source": [
    "#to get no.of people's data and no.of features\n",
    "data.shape"
   ]
  },
  {
   "cell_type": "markdown",
   "metadata": {},
   "source": [
    "The dataset has 768 females data , 8 measurements , 1 outcome (whether risk at diabetes or not)."
   ]
  },
  {
   "cell_type": "code",
   "execution_count": 268,
   "metadata": {},
   "outputs": [
    {
     "data": {
      "text/plain": [
       "0    500\n",
       "1    268\n",
       "Name: Outcome, dtype: int64"
      ]
     },
     "execution_count": 268,
     "metadata": {},
     "output_type": "execute_result"
    }
   ],
   "source": [
    "data['Outcome'].value_counts()"
   ]
  },
  {
   "cell_type": "code",
   "execution_count": 269,
   "metadata": {},
   "outputs": [
    {
     "data": {
      "text/plain": [
       "Pregnancies                   6.000\n",
       "Glucose                     148.000\n",
       "BloodPressure                72.000\n",
       "SkinThickness                35.000\n",
       "Insulin                       0.000\n",
       "BMI                          33.600\n",
       "DiabetesPedigreeFunction      0.627\n",
       "Age                          50.000\n",
       "Outcome                       1.000\n",
       "Name: 0, dtype: float64"
      ]
     },
     "execution_count": 269,
     "metadata": {},
     "output_type": "execute_result"
    }
   ],
   "source": [
    "#first person's measurements\n",
    "data.loc[0]"
   ]
  },
  {
   "cell_type": "markdown",
   "metadata": {},
   "source": [
    "dataset containing 500 females that has NO risk of diabetes and 268 females with having risk of diabetes."
   ]
  },
  {
   "cell_type": "code",
   "execution_count": 270,
   "metadata": {},
   "outputs": [
    {
     "data": {
      "image/png": "[encoded data removed]",
      "text/plain": [
       "<Figure size 864x576 with 9 Axes>"
      ]
     },
     "metadata": {
      "needs_background": "light"
     },
     "output_type": "display_data"
    }
   ],
   "source": [
    "#visualizing the histogram of complete features to gain more insights in the data\n",
    "data.hist(figsize = (12,8))\n",
    "plt.show()"
   ]
  },
  {
   "cell_type": "markdown",
   "metadata": {},
   "source": [
    "from the histogram plot we can visualize that ,            \n",
    "Age - the dataset contains most of the young aged women ,                \n",
    "BMI , BloodPressure , Glucose is Normally distributed. And mostly ,these features has 0 values (it should not be) , may be those have missing values.. lets check while  preprocessing data        \n",
    "Pregnencies - has almost 15 .. its a little shock , it may contains outliers it affects our model ..\n"
   ]
  },
  {
   "cell_type": "code",
   "execution_count": 271,
   "metadata": {},
   "outputs": [
    {
     "data": {
      "text/plain": [
       "['Pregnancies',\n",
       " 'Glucose',\n",
       " 'BloodPressure',\n",
       " 'SkinThickness',\n",
       " 'Insulin',\n",
       " 'BMI',\n",
       " 'DiabetesPedigreeFunction',\n",
       " 'Age',\n",
       " 'Outcome']"
      ]
     },
     "execution_count": 271,
     "metadata": {},
     "output_type": "execute_result"
    }
   ],
   "source": [
    "data.columns.tolist()"
   ]
  },
  {
   "cell_type": "code",
   "execution_count": 272,
   "metadata": {},
   "outputs": [
    {
     "name": "stderr",
     "output_type": "stream",
     "text": [
      "C:\\ProgramData\\Anaconda3\\lib\\site-packages\\scipy\\stats\\stats.py:1713: FutureWarning: Using a non-tuple sequence for multidimensional indexing is deprecated; use `arr[tuple(seq)]` instead of `arr[seq]`. In the future this will be interpreted as an array index, `arr[np.array(seq)]`, which will result either in an error or a different result.\n",
      "  return np.add.reduce(sorted[indexer] * weights, axis=axis) / sumval\n",
      "C:\\ProgramData\\Anaconda3\\lib\\site-packages\\statsmodels\\nonparametric\\kde.py:488: RuntimeWarning: invalid value encountered in true_divide\n",
      "  binned = fast_linbin(X, a, b, gridsize) / (delta * nobs)\n",
      "C:\\ProgramData\\Anaconda3\\lib\\site-packages\\statsmodels\\nonparametric\\kdetools.py:34: RuntimeWarning: invalid value encountered in double_scalars\n",
      "  FAC1 = 2*(np.pi*bw/RANGE)**2\n",
      "C:\\ProgramData\\Anaconda3\\lib\\site-packages\\numpy\\core\\fromnumeric.py:83: RuntimeWarning: invalid value encountered in reduce\n",
      "  return ufunc.reduce(obj, axis, dtype, out, **passkwargs)\n",
      "C:\\ProgramData\\Anaconda3\\lib\\site-packages\\matplotlib\\figure.py:98: MatplotlibDeprecationWarning: \n",
      "Adding an axes using the same arguments as a previous axes currently reuses the earlier instance.  In a future version, a new instance will always be created and returned.  Meanwhile, this warning can be suppressed, and the future behavior ensured, by passing a unique label to each axes instance.\n",
      "  \"Adding an axes using the same arguments as a previous axes \"\n"
     ]
    },
    {
     "data": {
      "image/png": "[encoded data removed]",
      "text/plain": [
       "<Figure size 720x720 with 9 Axes>"
      ]
     },
     "metadata": {
      "needs_background": "light"
     },
     "output_type": "display_data"
    }
   ],
   "source": [
    "# seaborn has a data visualization that follows Density plot to visualize the relationship between variables and the outcome .\n",
    "plt.subplots(3,3,figsize=(10,10))\n",
    "\n",
    "# Plot a density plot for each variable\n",
    "for idx, col in enumerate(data.columns):\n",
    "    ax = plt.subplot(3,3,idx+1)\n",
    "    ax.yaxis.set_ticklabels([])\n",
    "    sns.distplot(data.loc[data.Outcome == 0][col], hist=False, axlabel= False, \n",
    "    kde_kws={'linestyle':'-',  \n",
    "    'color':'black', 'label':\"No Diabetes\"})\n",
    "    sns.distplot(data.loc[data.Outcome == 1][col], hist=False, axlabel= False, \n",
    "    kde_kws={'linestyle':'--', \n",
    "    'color':'black', 'label':\"Diabetes\"})\n",
    "    ax.set_title(col)\n",
    "\n",
    "# Hide the 9th subplot (bottom right) since there are only 8 plots\n",
    "plt.subplot(3,3,9).set_visible(False)\n",
    "plt.show()"
   ]
  },
  {
   "cell_type": "markdown",
   "metadata": {},
   "source": [
    "from the distplot ,we gain insights like\n",
    "In Glucose - people with No diabetes has Normally distributed and its mean is around 100mg/dL. people with diabetes has a mean of 150mg/dL       \n",
    "from this we can get ,if the person having high BMI,Glucose,and are older they tends to have diabetes..           \n",
    "\n",
    "BloodPressure and SkinThickness has same values for both diabetes and Non-diabetes people,then these both features are not useful predictors for the model"
   ]
  },
  {
   "cell_type": "code",
   "execution_count": 273,
   "metadata": {},
   "outputs": [],
   "source": [
    "#DATA PREPROCESSING"
   ]
  },
  {
   "cell_type": "markdown",
   "metadata": {},
   "source": [
    "1. check whether there is a missing values in the dataset - it lowers the performance of the model.                 \n",
    "2. Scaling the input features to get the model performance better .                           \n",
    "it should be done becoz while visualizing histogram we see DPF has values btw (0 , 2.5) and Insulin has values btw (0 , 700)."
   ]
  },
  {
   "cell_type": "code",
   "execution_count": 274,
   "metadata": {},
   "outputs": [
    {
     "data": {
      "text/plain": [
       "Pregnancies                 0\n",
       "Glucose                     0\n",
       "BloodPressure               0\n",
       "SkinThickness               0\n",
       "Insulin                     0\n",
       "BMI                         0\n",
       "DiabetesPedigreeFunction    0\n",
       "Age                         0\n",
       "Outcome                     0\n",
       "dtype: int64"
      ]
     },
     "execution_count": 274,
     "metadata": {},
     "output_type": "execute_result"
    }
   ],
   "source": [
    "#checking missing values in the dataset\n",
    "data.isnull().sum()"
   ]
  },
  {
   "cell_type": "markdown",
   "metadata": {},
   "source": [
    "There is no missing values but histogram shows in Glucose ,BMI,BloodPressure,Insulin has 0 values in the dataset but it is not missing values..,ie,.Wgether there be a persons who are not used to give their measurements or else,there may be some technical default in the machine ..        \n",
    "A better way to check the missing values is,"
   ]
  },
  {
   "cell_type": "code",
   "execution_count": 275,
   "metadata": {},
   "outputs": [
    {
     "data": {
      "text/html": [
       "<div>\n",
       "<style scoped>\n",
       "    .dataframe tbody tr th:only-of-type {\n",
       "        vertical-align: middle;\n",
       "    }\n",
       "\n",
       "    .dataframe tbody tr th {\n",
       "        vertical-align: top;\n",
       "    }\n",
       "\n",
       "    .dataframe thead th {\n",
       "        text-align: right;\n",
       "    }\n",
       "</style>\n",
       "<table border=\"1\" class=\"dataframe\">\n",
       "  <thead>\n",
       "    <tr style=\"text-align: right;\">\n",
       "      <th></th>\n",
       "      <th>Pregnancies</th>\n",
       "      <th>Glucose</th>\n",
       "      <th>BloodPressure</th>\n",
       "      <th>SkinThickness</th>\n",
       "      <th>Insulin</th>\n",
       "      <th>BMI</th>\n",
       "      <th>DiabetesPedigreeFunction</th>\n",
       "      <th>Age</th>\n",
       "      <th>Outcome</th>\n",
       "    </tr>\n",
       "  </thead>\n",
       "  <tbody>\n",
       "    <tr>\n",
       "      <th>count</th>\n",
       "      <td>768.000000</td>\n",
       "      <td>768.000000</td>\n",
       "      <td>768.000000</td>\n",
       "      <td>768.000000</td>\n",
       "      <td>768.000000</td>\n",
       "      <td>768.000000</td>\n",
       "      <td>768.000000</td>\n",
       "      <td>768.000000</td>\n",
       "      <td>768.000000</td>\n",
       "    </tr>\n",
       "    <tr>\n",
       "      <th>mean</th>\n",
       "      <td>3.845052</td>\n",
       "      <td>120.894531</td>\n",
       "      <td>69.105469</td>\n",
       "      <td>20.536458</td>\n",
       "      <td>79.799479</td>\n",
       "      <td>31.992578</td>\n",
       "      <td>0.471876</td>\n",
       "      <td>33.240885</td>\n",
       "      <td>0.348958</td>\n",
       "    </tr>\n",
       "    <tr>\n",
       "      <th>std</th>\n",
       "      <td>3.369578</td>\n",
       "      <td>31.972618</td>\n",
       "      <td>19.355807</td>\n",
       "      <td>15.952218</td>\n",
       "      <td>115.244002</td>\n",
       "      <td>7.884160</td>\n",
       "      <td>0.331329</td>\n",
       "      <td>11.760232</td>\n",
       "      <td>0.476951</td>\n",
       "    </tr>\n",
       "    <tr>\n",
       "      <th>min</th>\n",
       "      <td>0.000000</td>\n",
       "      <td>0.000000</td>\n",
       "      <td>0.000000</td>\n",
       "      <td>0.000000</td>\n",
       "      <td>0.000000</td>\n",
       "      <td>0.000000</td>\n",
       "      <td>0.078000</td>\n",
       "      <td>21.000000</td>\n",
       "      <td>0.000000</td>\n",
       "    </tr>\n",
       "    <tr>\n",
       "      <th>25%</th>\n",
       "      <td>1.000000</td>\n",
       "      <td>99.000000</td>\n",
       "      <td>62.000000</td>\n",
       "      <td>0.000000</td>\n",
       "      <td>0.000000</td>\n",
       "      <td>27.300000</td>\n",
       "      <td>0.243750</td>\n",
       "      <td>24.000000</td>\n",
       "      <td>0.000000</td>\n",
       "    </tr>\n",
       "    <tr>\n",
       "      <th>50%</th>\n",
       "      <td>3.000000</td>\n",
       "      <td>117.000000</td>\n",
       "      <td>72.000000</td>\n",
       "      <td>23.000000</td>\n",
       "      <td>30.500000</td>\n",
       "      <td>32.000000</td>\n",
       "      <td>0.372500</td>\n",
       "      <td>29.000000</td>\n",
       "      <td>0.000000</td>\n",
       "    </tr>\n",
       "    <tr>\n",
       "      <th>75%</th>\n",
       "      <td>6.000000</td>\n",
       "      <td>140.250000</td>\n",
       "      <td>80.000000</td>\n",
       "      <td>32.000000</td>\n",
       "      <td>127.250000</td>\n",
       "      <td>36.600000</td>\n",
       "      <td>0.626250</td>\n",
       "      <td>41.000000</td>\n",
       "      <td>1.000000</td>\n",
       "    </tr>\n",
       "    <tr>\n",
       "      <th>max</th>\n",
       "      <td>17.000000</td>\n",
       "      <td>199.000000</td>\n",
       "      <td>122.000000</td>\n",
       "      <td>99.000000</td>\n",
       "      <td>846.000000</td>\n",
       "      <td>67.100000</td>\n",
       "      <td>2.420000</td>\n",
       "      <td>81.000000</td>\n",
       "      <td>1.000000</td>\n",
       "    </tr>\n",
       "  </tbody>\n",
       "</table>\n",
       "</div>"
      ],
      "text/plain": [
       "       Pregnancies     Glucose  BloodPressure  SkinThickness     Insulin  \\\n",
       "count   768.000000  768.000000     768.000000     768.000000  768.000000   \n",
       "mean      3.845052  120.894531      69.105469      20.536458   79.799479   \n",
       "std       3.369578   31.972618      19.355807      15.952218  115.244002   \n",
       "min       0.000000    0.000000       0.000000       0.000000    0.000000   \n",
       "25%       1.000000   99.000000      62.000000       0.000000    0.000000   \n",
       "50%       3.000000  117.000000      72.000000      23.000000   30.500000   \n",
       "75%       6.000000  140.250000      80.000000      32.000000  127.250000   \n",
       "max      17.000000  199.000000     122.000000      99.000000  846.000000   \n",
       "\n",
       "              BMI  DiabetesPedigreeFunction         Age     Outcome  \n",
       "count  768.000000                768.000000  768.000000  768.000000  \n",
       "mean    31.992578                  0.471876   33.240885    0.348958  \n",
       "std      7.884160                  0.331329   11.760232    0.476951  \n",
       "min      0.000000                  0.078000   21.000000    0.000000  \n",
       "25%     27.300000                  0.243750   24.000000    0.000000  \n",
       "50%     32.000000                  0.372500   29.000000    0.000000  \n",
       "75%     36.600000                  0.626250   41.000000    1.000000  \n",
       "max     67.100000                  2.420000   81.000000    1.000000  "
      ]
     },
     "execution_count": 275,
     "metadata": {},
     "output_type": "execute_result"
    }
   ],
   "source": [
    "#This gives min ,max ,mean,quartile values to get insghts of data\n",
    "data.describe()"
   ]
  },
  {
   "cell_type": "markdown",
   "metadata": {},
   "source": [
    "See, every feature has 768 values (no missing values) , but seeing quite intutively the minimum values in Pregnancies,Glucose,BP,SkinThickness,Insulin,BMI has 0 in it .(this should not be valid data for us).          \n",
    "We need to do some techniques to get rid of that missing data (0 values)."
   ]
  },
  {
   "cell_type": "code",
   "execution_count": 276,
   "metadata": {},
   "outputs": [
    {
     "name": "stdout",
     "output_type": "stream",
     "text": [
      "data that has a total number of 0 values in it\n",
      "\n",
      "Pregnancies : 111\n",
      "Glucose : 5\n",
      "BloodPressure : 35\n",
      "SkinThickness : 227\n",
      "Insulin : 374\n",
      "BMI : 11\n",
      "DiabetesPedigreeFunction : 0\n",
      "Age : 0\n",
      "Outcome : 500\n"
     ]
    }
   ],
   "source": [
    "#This is done by\n",
    "print('data that has a total number of 0 values in it')\n",
    "print()\n",
    "for col in data.columns:\n",
    "    print(col + ' : ' + str(data.loc[data[col] == 0].shape[0]))"
   ]
  },
  {
   "cell_type": "markdown",
   "metadata": {},
   "source": [
    "Insulin has half of the missing value (0's) in it. This is done by replacing those 0's with NaN value to work easily in pandas \n",
    "Leaving pregnancies coz, there is a chance that a women have no children."
   ]
  },
  {
   "cell_type": "code",
   "execution_count": 277,
   "metadata": {},
   "outputs": [],
   "source": [
    "#replacing those 0's to NaN values\n",
    "data['Glucose'].replace(0,np.NaN,inplace = True)\n",
    "data['BloodPressure'].replace(0,np.NaN,inplace = True)\n",
    "data['SkinThickness'].replace(0,np.NaN,inplace = True)\n",
    "data['Insulin'].replace(0,np.NaN,inplace = True)\n",
    "data['BMI'].replace(0,np.NaN,inplace = True)"
   ]
  },
  {
   "cell_type": "code",
   "execution_count": 278,
   "metadata": {},
   "outputs": [
    {
     "name": "stdout",
     "output_type": "stream",
     "text": [
      "Pregnancies : 111\n",
      "Glucose : 0\n",
      "BloodPressure : 0\n",
      "SkinThickness : 0\n",
      "Insulin : 0\n",
      "BMI : 0\n",
      "DiabetesPedigreeFunction : 0\n",
      "Age : 0\n",
      "Outcome : 500\n"
     ]
    }
   ],
   "source": [
    "#again checking with columns\n",
    "for col in data.columns:\n",
    "    print(col + ' : '+ str(data.loc[data[col] == 0].shape[0]))"
   ]
  },
  {
   "cell_type": "code",
   "execution_count": 279,
   "metadata": {},
   "outputs": [
    {
     "data": {
      "text/plain": [
       "Pregnancies                   0\n",
       "Glucose                       5\n",
       "BloodPressure                35\n",
       "SkinThickness               227\n",
       "Insulin                     374\n",
       "BMI                          11\n",
       "DiabetesPedigreeFunction      0\n",
       "Age                           0\n",
       "Outcome                       0\n",
       "dtype: int64"
      ]
     },
     "execution_count": 279,
     "metadata": {},
     "output_type": "execute_result"
    }
   ],
   "source": [
    "#Now\n",
    "data.isnull().sum()"
   ]
  },
  {
   "cell_type": "markdown",
   "metadata": {},
   "source": [
    "Techniques to avoid Missing values,            \n",
    "1. These missing NaN is done by making the mean or median or mode of the seperate columns and add those to the missing NaN values         \n",
    "2. droping those rows that contains missing values in it.  "
   ]
  },
  {
   "cell_type": "code",
   "execution_count": 280,
   "metadata": {},
   "outputs": [],
   "source": [
    "# Here we cant drop those rows becoz there are so many missng values in the data.SO, we can add the mean values to them instead\n",
    "#replacing those 0's to NaN values\n",
    "data.fillna(data['Glucose'].mean(),inplace = True)\n",
    "data.fillna(data['BloodPressure'].mean(),inplace = True)\n",
    "data.fillna(data['SkinThickness'].mean(),inplace = True)\n",
    "data.fillna(data['Insulin'].mean(),inplace = True)\n",
    "data.fillna(data['BMI'].mean(),inplace = True)"
   ]
  },
  {
   "cell_type": "code",
   "execution_count": 281,
   "metadata": {},
   "outputs": [
    {
     "name": "stdout",
     "output_type": "stream",
     "text": [
      "<class 'pandas.core.frame.DataFrame'>\n",
      "RangeIndex: 768 entries, 0 to 767\n",
      "Data columns (total 9 columns):\n",
      "Pregnancies                 768 non-null int64\n",
      "Glucose                     768 non-null float64\n",
      "BloodPressure               768 non-null float64\n",
      "SkinThickness               768 non-null float64\n",
      "Insulin                     768 non-null float64\n",
      "BMI                         768 non-null float64\n",
      "DiabetesPedigreeFunction    768 non-null float64\n",
      "Age                         768 non-null int64\n",
      "Outcome                     768 non-null int64\n",
      "dtypes: float64(6), int64(3)\n",
      "memory usage: 54.1 KB\n"
     ]
    }
   ],
   "source": [
    "data.info()"
   ]
  },
  {
   "cell_type": "code",
   "execution_count": 282,
   "metadata": {},
   "outputs": [],
   "source": [
    "#SCALING THE FEATURES - Data Standardization\n",
    "\n",
    "#taking features and Label seperately\n",
    "features = data.drop(columns = 'Outcome',axis=1)\n",
    "Label = data['Outcome']"
   ]
  },
  {
   "cell_type": "code",
   "execution_count": 283,
   "metadata": {},
   "outputs": [
    {
     "name": "stderr",
     "output_type": "stream",
     "text": [
      "C:\\ProgramData\\Anaconda3\\lib\\site-packages\\sklearn\\preprocessing\\data.py:625: DataConversionWarning: Data with input dtype int64, float64 were all converted to float64 by StandardScaler.\n",
      "  return self.partial_fit(X, y)\n",
      "C:\\ProgramData\\Anaconda3\\lib\\site-packages\\sklearn\\base.py:462: DataConversionWarning: Data with input dtype int64, float64 were all converted to float64 by StandardScaler.\n",
      "  return self.fit(X, **fit_params).transform(X)\n"
     ]
    }
   ],
   "source": [
    "scaler = StandardScaler()\n",
    "features_scaled = scaler.fit_transform(features)"
   ]
  },
  {
   "cell_type": "code",
   "execution_count": 284,
   "metadata": {},
   "outputs": [
    {
     "data": {
      "text/plain": [
       "array([[ 0.63994726,  0.86510807, -0.16707962, ..., -0.01072431,\n",
       "         0.46849198,  1.4259954 ],\n",
       "       [-0.84488505, -1.20616153, -0.54521765, ..., -0.56479861,\n",
       "        -0.36506078, -0.19067191],\n",
       "       [ 1.23388019,  2.0158134 , -0.67126365, ..., -0.82600507,\n",
       "         0.60439732, -0.10558415],\n",
       "       ...,\n",
       "       [ 0.3429808 , -0.0225789 , -0.16707962, ..., -0.59646   ,\n",
       "        -0.68519336, -0.27575966],\n",
       "       [-0.84488505,  0.14180757, -0.92335567, ..., -0.28776146,\n",
       "        -0.37110101,  1.17073215],\n",
       "       [-0.84488505, -0.94314317, -0.29312563, ..., -0.26401542,\n",
       "        -0.47378505, -0.87137393]])"
      ]
     },
     "execution_count": 284,
     "metadata": {},
     "output_type": "execute_result"
    }
   ],
   "source": [
    "features_scaled"
   ]
  },
  {
   "cell_type": "code",
   "execution_count": 285,
   "metadata": {},
   "outputs": [],
   "source": [
    "#Splitting dataset for training and testing"
   ]
  },
  {
   "cell_type": "code",
   "execution_count": 286,
   "metadata": {},
   "outputs": [],
   "source": [
    "X_train,X_test,y_train,y_test = train_test_split(features_scaled,Label,test_size = 0.2)"
   ]
  },
  {
   "cell_type": "markdown",
   "metadata": {},
   "source": [
    "### Building MultiLayer Network using keras\n",
    "Here ,there will be 1- input layer , 2-hidden layers and 1-output layer..        \n",
    "Input Layer    ------>  consist of 8 nodes (features)           \n",
    "Hidden Layer   ------>  2- hidden layers with arbitary units                        \n",
    "Output Layer   ------>  1- output layer that predicts (0-No risk of diabetes , 1-risk of diabetes)             "
   ]
  },
  {
   "cell_type": "code",
   "execution_count": 287,
   "metadata": {},
   "outputs": [
    {
     "data": {
      "text/plain": [
       "<keras.engine.sequential.Sequential at 0x21e6244f4a8>"
      ]
     },
     "execution_count": 287,
     "metadata": {},
     "output_type": "execute_result"
    }
   ],
   "source": [
    "model = Sequential()\n",
    "model"
   ]
  },
  {
   "cell_type": "markdown",
   "metadata": {},
   "source": [
    "Actiavtion function :               \n",
    "ReLU (Rectified Linear Unit) takes negative  values as 0 and it slightly increses from 0 to inf (positive values)           \n",
    "Sigmoid function - Squashes the values btween 0 and 1 . changes to Probability value            \n",
    "tanh - Hyperbolic tangent activation function.\n",
    "\n",
    "We use ReLU function (efficient) for the 1-st hidden layer,tanh for 2nd hidden layer  and sigmoid for output layer(efficient)\n",
    "  \n"
   ]
  },
  {
   "cell_type": "code",
   "execution_count": 288,
   "metadata": {},
   "outputs": [],
   "source": [
    "#adding hidden layers\n",
    "\n",
    "#1st hidden layer - contains 32 nodes(we need to carefuly select the first layer nodes by trial and error)\n",
    "model.add(Dense(32 , activation = 'relu' , input_dim = 8))\n",
    "\n",
    "#2nd hidden layer\n",
    "model.add(Dense(16 , activation = 'relu'))\n",
    "\n",
    "#output layer\n",
    "model.add(Dense(1 , activation = 'sigmoid'))"
   ]
  },
  {
   "cell_type": "code",
   "execution_count": 289,
   "metadata": {
    "scrolled": false
   },
   "outputs": [
    {
     "name": "stdout",
     "output_type": "stream",
     "text": [
      "Model: \"sequential_5\"\n",
      "_________________________________________________________________\n",
      "Layer (type)                 Output Shape              Param #   \n",
      "=================================================================\n",
      "dense_14 (Dense)             (None, 32)                288       \n",
      "_________________________________________________________________\n",
      "dense_15 (Dense)             (None, 16)                528       \n",
      "_________________________________________________________________\n",
      "dense_16 (Dense)             (None, 1)                 17        \n",
      "=================================================================\n",
      "Total params: 833\n",
      "Trainable params: 833\n",
      "Non-trainable params: 0\n",
      "_________________________________________________________________\n"
     ]
    }
   ],
   "source": [
    "model.summary()"
   ]
  },
  {
   "cell_type": "markdown",
   "metadata": {},
   "source": [
    "Optimizer - to update weights and biases               \n",
    "loss      - as this problem tends to classification, we used binary_crossentropy             \n",
    "metrics   - gives correctness of the model              "
   ]
  },
  {
   "cell_type": "code",
   "execution_count": 291,
   "metadata": {},
   "outputs": [],
   "source": [
    "#compiling model\n",
    "model.compile(optimizer = 'adam' , loss = 'binary_crossentropy',metrics = ['accuracy'])"
   ]
  },
  {
   "cell_type": "code",
   "execution_count": 292,
   "metadata": {},
   "outputs": [
    {
     "name": "stdout",
     "output_type": "stream",
     "text": [
      "Epoch 1/200\n",
      "614/614 [==============================] - 1s 2ms/step - loss: 0.6148 - acc: 0.6433\n",
      "Epoch 2/200\n",
      "614/614 [==============================] - 0s 59us/step - loss: 0.5717 - acc: 0.6450\n",
      "Epoch 3/200\n",
      "614/614 [==============================] - 0s 65us/step - loss: 0.5432 - acc: 0.6629\n",
      "Epoch 4/200\n",
      "614/614 [==============================] - 0s 64us/step - loss: 0.5261 - acc: 0.7052\n",
      "Epoch 5/200\n",
      "614/614 [==============================] - 0s 67us/step - loss: 0.5132 - acc: 0.7329\n",
      "Epoch 6/200\n",
      "614/614 [==============================] - 0s 72us/step - loss: 0.5043 - acc: 0.7427\n",
      "Epoch 7/200\n",
      "614/614 [==============================] - 0s 83us/step - loss: 0.4972 - acc: 0.7443\n",
      "Epoch 8/200\n",
      "614/614 [==============================] - 0s 77us/step - loss: 0.4902 - acc: 0.7508\n",
      "Epoch 9/200\n",
      "614/614 [==============================] - 0s 70us/step - loss: 0.4833 - acc: 0.7557\n",
      "Epoch 10/200\n",
      "614/614 [==============================] - 0s 75us/step - loss: 0.4771 - acc: 0.7655\n",
      "Epoch 11/200\n",
      "614/614 [==============================] - 0s 85us/step - loss: 0.4708 - acc: 0.7785\n",
      "Epoch 12/200\n",
      "614/614 [==============================] - 0s 82us/step - loss: 0.4647 - acc: 0.7834\n",
      "Epoch 13/200\n",
      "614/614 [==============================] - 0s 69us/step - loss: 0.4589 - acc: 0.7818\n",
      "Epoch 14/200\n",
      "614/614 [==============================] - 0s 81us/step - loss: 0.4548 - acc: 0.7801\n",
      "Epoch 15/200\n",
      "614/614 [==============================] - 0s 76us/step - loss: 0.4506 - acc: 0.7866\n",
      "Epoch 16/200\n",
      "614/614 [==============================] - 0s 81us/step - loss: 0.4464 - acc: 0.7850\n",
      "Epoch 17/200\n",
      "614/614 [==============================] - 0s 75us/step - loss: 0.4428 - acc: 0.7883\n",
      "Epoch 18/200\n",
      "614/614 [==============================] - 0s 82us/step - loss: 0.4399 - acc: 0.7834\n",
      "Epoch 19/200\n",
      "614/614 [==============================] - 0s 80us/step - loss: 0.4365 - acc: 0.7818\n",
      "Epoch 20/200\n",
      "614/614 [==============================] - 0s 82us/step - loss: 0.4348 - acc: 0.7801\n",
      "Epoch 21/200\n",
      "614/614 [==============================] - 0s 83us/step - loss: 0.4315 - acc: 0.7866\n",
      "Epoch 22/200\n",
      "614/614 [==============================] - 0s 71us/step - loss: 0.4296 - acc: 0.7899\n",
      "Epoch 23/200\n",
      "614/614 [==============================] - 0s 76us/step - loss: 0.4271 - acc: 0.7866\n",
      "Epoch 24/200\n",
      "614/614 [==============================] - 0s 77us/step - loss: 0.4263 - acc: 0.7850\n",
      "Epoch 25/200\n",
      "614/614 [==============================] - 0s 72us/step - loss: 0.4246 - acc: 0.7866\n",
      "Epoch 26/200\n",
      "614/614 [==============================] - 0s 79us/step - loss: 0.4217 - acc: 0.7932\n",
      "Epoch 27/200\n",
      "614/614 [==============================] - 0s 83us/step - loss: 0.4197 - acc: 0.7932\n",
      "Epoch 28/200\n",
      "614/614 [==============================] - 0s 89us/step - loss: 0.4177 - acc: 0.7964\n",
      "Epoch 29/200\n",
      "614/614 [==============================] - 0s 84us/step - loss: 0.4157 - acc: 0.7980\n",
      "Epoch 30/200\n",
      "614/614 [==============================] - 0s 84us/step - loss: 0.4133 - acc: 0.7964\n",
      "Epoch 31/200\n",
      "614/614 [==============================] - 0s 79us/step - loss: 0.4122 - acc: 0.7980\n",
      "Epoch 32/200\n",
      "614/614 [==============================] - 0s 78us/step - loss: 0.4107 - acc: 0.7980\n",
      "Epoch 33/200\n",
      "614/614 [==============================] - 0s 78us/step - loss: 0.4099 - acc: 0.8078\n",
      "Epoch 34/200\n",
      "614/614 [==============================] - 0s 88us/step - loss: 0.4081 - acc: 0.7997\n",
      "Epoch 35/200\n",
      "614/614 [==============================] - 0s 85us/step - loss: 0.4067 - acc: 0.7980\n",
      "Epoch 36/200\n",
      "614/614 [==============================] - 0s 75us/step - loss: 0.4048 - acc: 0.8062\n",
      "Epoch 37/200\n",
      "614/614 [==============================] - 0s 89us/step - loss: 0.4030 - acc: 0.8127\n",
      "Epoch 38/200\n",
      "614/614 [==============================] - 0s 83us/step - loss: 0.4011 - acc: 0.8127\n",
      "Epoch 39/200\n",
      "614/614 [==============================] - 0s 76us/step - loss: 0.3998 - acc: 0.8127\n",
      "Epoch 40/200\n",
      "614/614 [==============================] - 0s 83us/step - loss: 0.3991 - acc: 0.8143\n",
      "Epoch 41/200\n",
      "614/614 [==============================] - 0s 78us/step - loss: 0.3972 - acc: 0.8094\n",
      "Epoch 42/200\n",
      "614/614 [==============================] - 0s 87us/step - loss: 0.3958 - acc: 0.8160\n",
      "Epoch 43/200\n",
      "614/614 [==============================] - 0s 80us/step - loss: 0.3943 - acc: 0.8160\n",
      "Epoch 44/200\n",
      "614/614 [==============================] - 0s 82us/step - loss: 0.3931 - acc: 0.8127\n",
      "Epoch 45/200\n",
      "614/614 [==============================] - 0s 80us/step - loss: 0.3917 - acc: 0.8208\n",
      "Epoch 46/200\n",
      "614/614 [==============================] - 0s 79us/step - loss: 0.3901 - acc: 0.8143\n",
      "Epoch 47/200\n",
      "614/614 [==============================] - 0s 82us/step - loss: 0.3883 - acc: 0.8160\n",
      "Epoch 48/200\n",
      "614/614 [==============================] - 0s 79us/step - loss: 0.3871 - acc: 0.8208\n",
      "Epoch 49/200\n",
      "614/614 [==============================] - 0s 80us/step - loss: 0.3863 - acc: 0.8176\n",
      "Epoch 50/200\n",
      "614/614 [==============================] - 0s 79us/step - loss: 0.3848 - acc: 0.8176\n",
      "Epoch 51/200\n",
      "614/614 [==============================] - 0s 82us/step - loss: 0.3833 - acc: 0.8127\n",
      "Epoch 52/200\n",
      "614/614 [==============================] - 0s 78us/step - loss: 0.3831 - acc: 0.8127\n",
      "Epoch 53/200\n",
      "614/614 [==============================] - 0s 77us/step - loss: 0.3814 - acc: 0.8225\n",
      "Epoch 54/200\n",
      "614/614 [==============================] - 0s 74us/step - loss: 0.3808 - acc: 0.8208\n",
      "Epoch 55/200\n",
      "614/614 [==============================] - 0s 77us/step - loss: 0.3793 - acc: 0.8160\n",
      "Epoch 56/200\n",
      "614/614 [==============================] - 0s 82us/step - loss: 0.3773 - acc: 0.8241\n",
      "Epoch 57/200\n",
      "614/614 [==============================] - 0s 85us/step - loss: 0.3772 - acc: 0.8225\n",
      "Epoch 58/200\n",
      "614/614 [==============================] - 0s 94us/step - loss: 0.3768 - acc: 0.8274\n",
      "Epoch 59/200\n",
      "614/614 [==============================] - 0s 75us/step - loss: 0.3740 - acc: 0.8274\n",
      "Epoch 60/200\n",
      "614/614 [==============================] - 0s 76us/step - loss: 0.3732 - acc: 0.8208\n",
      "Epoch 61/200\n",
      "614/614 [==============================] - 0s 84us/step - loss: 0.3760 - acc: 0.8192\n",
      "Epoch 62/200\n",
      "614/614 [==============================] - 0s 83us/step - loss: 0.3706 - acc: 0.8257\n",
      "Epoch 63/200\n",
      "614/614 [==============================] - 0s 78us/step - loss: 0.3699 - acc: 0.8290\n",
      "Epoch 64/200\n",
      "614/614 [==============================] - 0s 79us/step - loss: 0.3681 - acc: 0.8355\n",
      "Epoch 65/200\n",
      "614/614 [==============================] - 0s 81us/step - loss: 0.3682 - acc: 0.8290\n",
      "Epoch 66/200\n",
      "614/614 [==============================] - 0s 80us/step - loss: 0.3704 - acc: 0.8322\n",
      "Epoch 67/200\n",
      "614/614 [==============================] - 0s 81us/step - loss: 0.3650 - acc: 0.8322\n",
      "Epoch 68/200\n",
      "614/614 [==============================] - 0s 80us/step - loss: 0.3630 - acc: 0.8322\n",
      "Epoch 69/200\n",
      "614/614 [==============================] - 0s 75us/step - loss: 0.3620 - acc: 0.8322\n",
      "Epoch 70/200\n",
      "614/614 [==============================] - 0s 80us/step - loss: 0.3604 - acc: 0.8322\n",
      "Epoch 71/200\n",
      "614/614 [==============================] - 0s 91us/step - loss: 0.3600 - acc: 0.8306\n",
      "Epoch 72/200\n",
      "614/614 [==============================] - 0s 90us/step - loss: 0.3586 - acc: 0.8306\n",
      "Epoch 73/200\n",
      "614/614 [==============================] - 0s 84us/step - loss: 0.3573 - acc: 0.8371\n",
      "Epoch 74/200\n",
      "614/614 [==============================] - 0s 75us/step - loss: 0.3573 - acc: 0.8339\n",
      "Epoch 75/200\n",
      "614/614 [==============================] - 0s 72us/step - loss: 0.3568 - acc: 0.8306\n",
      "Epoch 76/200\n",
      "614/614 [==============================] - 0s 75us/step - loss: 0.3545 - acc: 0.8371\n",
      "Epoch 77/200\n",
      "614/614 [==============================] - 0s 74us/step - loss: 0.3539 - acc: 0.8388\n",
      "Epoch 78/200\n",
      "614/614 [==============================] - 0s 88us/step - loss: 0.3519 - acc: 0.8388\n",
      "Epoch 79/200\n",
      "614/614 [==============================] - 0s 86us/step - loss: 0.3514 - acc: 0.8404\n",
      "Epoch 80/200\n",
      "614/614 [==============================] - 0s 85us/step - loss: 0.3512 - acc: 0.8322\n",
      "Epoch 81/200\n",
      "614/614 [==============================] - 0s 83us/step - loss: 0.3495 - acc: 0.8420\n",
      "Epoch 82/200\n",
      "614/614 [==============================] - 0s 85us/step - loss: 0.3482 - acc: 0.8371\n",
      "Epoch 83/200\n",
      "614/614 [==============================] - 0s 85us/step - loss: 0.3491 - acc: 0.8371\n",
      "Epoch 84/200\n",
      "614/614 [==============================] - 0s 86us/step - loss: 0.3474 - acc: 0.8469\n",
      "Epoch 85/200\n",
      "614/614 [==============================] - 0s 80us/step - loss: 0.3459 - acc: 0.8469\n",
      "Epoch 86/200\n",
      "614/614 [==============================] - 0s 87us/step - loss: 0.3445 - acc: 0.8485\n",
      "Epoch 87/200\n",
      "614/614 [==============================] - 0s 83us/step - loss: 0.3425 - acc: 0.8485\n",
      "Epoch 88/200\n",
      "614/614 [==============================] - 0s 77us/step - loss: 0.3422 - acc: 0.8469\n",
      "Epoch 89/200\n",
      "614/614 [==============================] - 0s 88us/step - loss: 0.3414 - acc: 0.8469\n",
      "Epoch 90/200\n",
      "614/614 [==============================] - 0s 104us/step - loss: 0.3407 - acc: 0.8469\n",
      "Epoch 91/200\n",
      "614/614 [==============================] - 0s 79us/step - loss: 0.3401 - acc: 0.8502\n",
      "Epoch 92/200\n",
      "614/614 [==============================] - 0s 76us/step - loss: 0.3375 - acc: 0.8485\n",
      "Epoch 93/200\n",
      "614/614 [==============================] - 0s 82us/step - loss: 0.3371 - acc: 0.8502\n",
      "Epoch 94/200\n",
      "614/614 [==============================] - 0s 80us/step - loss: 0.3366 - acc: 0.8502\n",
      "Epoch 95/200\n",
      "614/614 [==============================] - 0s 84us/step - loss: 0.3347 - acc: 0.8550\n",
      "Epoch 96/200\n",
      "614/614 [==============================] - 0s 83us/step - loss: 0.3339 - acc: 0.8518\n",
      "Epoch 97/200\n",
      "614/614 [==============================] - 0s 78us/step - loss: 0.3325 - acc: 0.8583\n",
      "Epoch 98/200\n",
      "614/614 [==============================] - 0s 77us/step - loss: 0.3335 - acc: 0.8583\n",
      "Epoch 99/200\n",
      "614/614 [==============================] - 0s 84us/step - loss: 0.3307 - acc: 0.8583\n",
      "Epoch 100/200\n",
      "614/614 [==============================] - 0s 79us/step - loss: 0.3292 - acc: 0.8599\n",
      "Epoch 101/200\n",
      "614/614 [==============================] - 0s 80us/step - loss: 0.3286 - acc: 0.8632\n",
      "Epoch 102/200\n",
      "614/614 [==============================] - 0s 79us/step - loss: 0.3296 - acc: 0.8550\n",
      "Epoch 103/200\n",
      "614/614 [==============================] - 0s 71us/step - loss: 0.3276 - acc: 0.8567\n",
      "Epoch 104/200\n",
      "614/614 [==============================] - 0s 73us/step - loss: 0.3254 - acc: 0.8632\n",
      "Epoch 105/200\n",
      "614/614 [==============================] - 0s 78us/step - loss: 0.3258 - acc: 0.8616\n",
      "Epoch 106/200\n",
      "614/614 [==============================] - 0s 81us/step - loss: 0.3241 - acc: 0.8648\n",
      "Epoch 107/200\n",
      "614/614 [==============================] - 0s 78us/step - loss: 0.3235 - acc: 0.8616\n",
      "Epoch 108/200\n",
      "614/614 [==============================] - 0s 77us/step - loss: 0.3238 - acc: 0.8599\n",
      "Epoch 109/200\n",
      "614/614 [==============================] - 0s 87us/step - loss: 0.3235 - acc: 0.8583\n",
      "Epoch 110/200\n",
      "614/614 [==============================] - 0s 75us/step - loss: 0.3229 - acc: 0.8632\n",
      "Epoch 111/200\n",
      "614/614 [==============================] - 0s 76us/step - loss: 0.3207 - acc: 0.8664\n",
      "Epoch 112/200\n",
      "614/614 [==============================] - 0s 77us/step - loss: 0.3180 - acc: 0.8697\n",
      "Epoch 113/200\n",
      "614/614 [==============================] - 0s 81us/step - loss: 0.3174 - acc: 0.8697\n",
      "Epoch 114/200\n",
      "614/614 [==============================] - 0s 88us/step - loss: 0.3178 - acc: 0.8632\n",
      "Epoch 115/200\n",
      "614/614 [==============================] - 0s 82us/step - loss: 0.3217 - acc: 0.8616\n",
      "Epoch 116/200\n",
      "614/614 [==============================] - 0s 79us/step - loss: 0.3151 - acc: 0.8681\n",
      "Epoch 117/200\n",
      "614/614 [==============================] - 0s 82us/step - loss: 0.3159 - acc: 0.8664\n",
      "Epoch 118/200\n",
      "614/614 [==============================] - 0s 83us/step - loss: 0.3121 - acc: 0.8664\n",
      "Epoch 119/200\n",
      "614/614 [==============================] - 0s 78us/step - loss: 0.3117 - acc: 0.8681\n",
      "Epoch 120/200\n",
      "614/614 [==============================] - 0s 76us/step - loss: 0.3099 - acc: 0.8697\n",
      "Epoch 121/200\n",
      "614/614 [==============================] - 0s 81us/step - loss: 0.3093 - acc: 0.8681\n",
      "Epoch 122/200\n",
      "614/614 [==============================] - 0s 78us/step - loss: 0.3088 - acc: 0.8779\n",
      "Epoch 123/200\n",
      "614/614 [==============================] - 0s 81us/step - loss: 0.3086 - acc: 0.8746\n",
      "Epoch 124/200\n",
      "614/614 [==============================] - 0s 78us/step - loss: 0.3068 - acc: 0.8730\n",
      "Epoch 125/200\n",
      "614/614 [==============================] - 0s 84us/step - loss: 0.3088 - acc: 0.8697\n",
      "Epoch 126/200\n",
      "614/614 [==============================] - 0s 75us/step - loss: 0.3050 - acc: 0.8746\n",
      "Epoch 127/200\n",
      "614/614 [==============================] - 0s 77us/step - loss: 0.3042 - acc: 0.8795\n",
      "Epoch 128/200\n",
      "614/614 [==============================] - 0s 76us/step - loss: 0.3021 - acc: 0.8746\n",
      "Epoch 129/200\n",
      "614/614 [==============================] - 0s 75us/step - loss: 0.3022 - acc: 0.8746\n",
      "Epoch 130/200\n",
      "614/614 [==============================] - 0s 77us/step - loss: 0.3055 - acc: 0.8746\n",
      "Epoch 131/200\n",
      "614/614 [==============================] - 0s 84us/step - loss: 0.3020 - acc: 0.8746\n",
      "Epoch 132/200\n",
      "614/614 [==============================] - 0s 76us/step - loss: 0.2987 - acc: 0.8762\n",
      "Epoch 133/200\n",
      "614/614 [==============================] - 0s 76us/step - loss: 0.2979 - acc: 0.8795\n",
      "Epoch 134/200\n",
      "614/614 [==============================] - 0s 73us/step - loss: 0.2969 - acc: 0.8811\n",
      "Epoch 135/200\n",
      "614/614 [==============================] - 0s 77us/step - loss: 0.2956 - acc: 0.8746\n",
      "Epoch 136/200\n",
      "614/614 [==============================] - 0s 72us/step - loss: 0.2951 - acc: 0.8779\n",
      "Epoch 137/200\n",
      "614/614 [==============================] - 0s 76us/step - loss: 0.2936 - acc: 0.8811\n",
      "Epoch 138/200\n",
      "614/614 [==============================] - 0s 85us/step - loss: 0.2930 - acc: 0.8811\n",
      "Epoch 139/200\n",
      "614/614 [==============================] - 0s 82us/step - loss: 0.2927 - acc: 0.8860\n",
      "Epoch 140/200\n",
      "614/614 [==============================] - 0s 74us/step - loss: 0.2931 - acc: 0.8844\n",
      "Epoch 141/200\n",
      "614/614 [==============================] - 0s 84us/step - loss: 0.2895 - acc: 0.8827\n",
      "Epoch 142/200\n",
      "614/614 [==============================] - 0s 78us/step - loss: 0.2897 - acc: 0.8827\n",
      "Epoch 143/200\n",
      "614/614 [==============================] - 0s 85us/step - loss: 0.2906 - acc: 0.8811\n",
      "Epoch 144/200\n",
      "614/614 [==============================] - 0s 74us/step - loss: 0.2883 - acc: 0.8925\n",
      "Epoch 145/200\n",
      "614/614 [==============================] - 0s 74us/step - loss: 0.2881 - acc: 0.8811\n",
      "Epoch 146/200\n",
      "614/614 [==============================] - 0s 89us/step - loss: 0.2850 - acc: 0.8893\n",
      "Epoch 147/200\n",
      "614/614 [==============================] - 0s 97us/step - loss: 0.2857 - acc: 0.8746\n",
      "Epoch 148/200\n",
      "614/614 [==============================] - 0s 95us/step - loss: 0.2862 - acc: 0.8811\n",
      "Epoch 149/200\n",
      "614/614 [==============================] - 0s 103us/step - loss: 0.2838 - acc: 0.8811\n",
      "Epoch 150/200\n",
      "614/614 [==============================] - 0s 86us/step - loss: 0.2832 - acc: 0.8860\n",
      "Epoch 151/200\n",
      "614/614 [==============================] - 0s 84us/step - loss: 0.2817 - acc: 0.8909\n",
      "Epoch 152/200\n",
      "614/614 [==============================] - 0s 77us/step - loss: 0.2798 - acc: 0.8876\n",
      "Epoch 153/200\n",
      "614/614 [==============================] - 0s 86us/step - loss: 0.2812 - acc: 0.8876\n",
      "Epoch 154/200\n",
      "614/614 [==============================] - 0s 90us/step - loss: 0.2800 - acc: 0.8893\n",
      "Epoch 155/200\n",
      "614/614 [==============================] - 0s 109us/step - loss: 0.2787 - acc: 0.8893\n",
      "Epoch 156/200\n",
      "614/614 [==============================] - 0s 97us/step - loss: 0.2795 - acc: 0.8909\n",
      "Epoch 157/200\n",
      "614/614 [==============================] - 0s 88us/step - loss: 0.2780 - acc: 0.8876\n",
      "Epoch 158/200\n",
      "614/614 [==============================] - 0s 81us/step - loss: 0.2784 - acc: 0.8893\n",
      "Epoch 159/200\n",
      "614/614 [==============================] - 0s 84us/step - loss: 0.2758 - acc: 0.8958\n",
      "Epoch 160/200\n",
      "614/614 [==============================] - 0s 82us/step - loss: 0.2746 - acc: 0.8925\n",
      "Epoch 161/200\n",
      "614/614 [==============================] - 0s 85us/step - loss: 0.2727 - acc: 0.8893\n",
      "Epoch 162/200\n",
      "614/614 [==============================] - 0s 86us/step - loss: 0.2718 - acc: 0.8974\n",
      "Epoch 163/200\n",
      "614/614 [==============================] - 0s 82us/step - loss: 0.2743 - acc: 0.8909\n",
      "Epoch 164/200\n",
      "614/614 [==============================] - 0s 95us/step - loss: 0.2690 - acc: 0.8990\n",
      "Epoch 165/200\n",
      "614/614 [==============================] - 0s 97us/step - loss: 0.2711 - acc: 0.8893\n",
      "Epoch 166/200\n",
      "614/614 [==============================] - 0s 85us/step - loss: 0.2676 - acc: 0.9007\n",
      "Epoch 167/200\n"
     ]
    },
    {
     "name": "stdout",
     "output_type": "stream",
     "text": [
      "614/614 [==============================] - 0s 80us/step - loss: 0.2681 - acc: 0.8958\n",
      "Epoch 168/200\n",
      "614/614 [==============================] - 0s 83us/step - loss: 0.2665 - acc: 0.8990\n",
      "Epoch 169/200\n",
      "614/614 [==============================] - 0s 80us/step - loss: 0.2669 - acc: 0.8958\n",
      "Epoch 170/200\n",
      "614/614 [==============================] - 0s 79us/step - loss: 0.2644 - acc: 0.8990\n",
      "Epoch 171/200\n",
      "614/614 [==============================] - 0s 81us/step - loss: 0.2655 - acc: 0.9023\n",
      "Epoch 172/200\n",
      "614/614 [==============================] - 0s 71us/step - loss: 0.2631 - acc: 0.8990\n",
      "Epoch 173/200\n",
      "614/614 [==============================] - 0s 77us/step - loss: 0.2611 - acc: 0.8990\n",
      "Epoch 174/200\n",
      "614/614 [==============================] - 0s 77us/step - loss: 0.2613 - acc: 0.9023\n",
      "Epoch 175/200\n",
      "614/614 [==============================] - 0s 75us/step - loss: 0.2586 - acc: 0.9007\n",
      "Epoch 176/200\n",
      "614/614 [==============================] - 0s 73us/step - loss: 0.2599 - acc: 0.8909\n",
      "Epoch 177/200\n",
      "614/614 [==============================] - 0s 90us/step - loss: 0.2591 - acc: 0.9023\n",
      "Epoch 178/200\n",
      "614/614 [==============================] - 0s 68us/step - loss: 0.2572 - acc: 0.9088\n",
      "Epoch 179/200\n",
      "614/614 [==============================] - 0s 74us/step - loss: 0.2562 - acc: 0.9072\n",
      "Epoch 180/200\n",
      "614/614 [==============================] - 0s 82us/step - loss: 0.2563 - acc: 0.9039\n",
      "Epoch 181/200\n",
      "614/614 [==============================] - 0s 75us/step - loss: 0.2552 - acc: 0.9039\n",
      "Epoch 182/200\n",
      "614/614 [==============================] - 0s 82us/step - loss: 0.2559 - acc: 0.9039\n",
      "Epoch 183/200\n",
      "614/614 [==============================] - 0s 82us/step - loss: 0.2542 - acc: 0.8990\n",
      "Epoch 184/200\n",
      "614/614 [==============================] - 0s 83us/step - loss: 0.2534 - acc: 0.9039\n",
      "Epoch 185/200\n",
      "614/614 [==============================] - 0s 77us/step - loss: 0.2516 - acc: 0.8990\n",
      "Epoch 186/200\n",
      "614/614 [==============================] - 0s 83us/step - loss: 0.2508 - acc: 0.9072\n",
      "Epoch 187/200\n",
      "614/614 [==============================] - 0s 77us/step - loss: 0.2523 - acc: 0.9121\n",
      "Epoch 188/200\n",
      "614/614 [==============================] - 0s 88us/step - loss: 0.2517 - acc: 0.9023\n",
      "Epoch 189/200\n",
      "614/614 [==============================] - 0s 77us/step - loss: 0.2485 - acc: 0.9088\n",
      "Epoch 190/200\n",
      "614/614 [==============================] - 0s 72us/step - loss: 0.2492 - acc: 0.9121\n",
      "Epoch 191/200\n",
      "614/614 [==============================] - 0s 73us/step - loss: 0.2470 - acc: 0.9088\n",
      "Epoch 192/200\n",
      "614/614 [==============================] - 0s 86us/step - loss: 0.2454 - acc: 0.9039\n",
      "Epoch 193/200\n",
      "614/614 [==============================] - 0s 81us/step - loss: 0.2471 - acc: 0.9104\n",
      "Epoch 194/200\n",
      "614/614 [==============================] - 0s 81us/step - loss: 0.2475 - acc: 0.9007\n",
      "Epoch 195/200\n",
      "614/614 [==============================] - 0s 82us/step - loss: 0.2462 - acc: 0.9039\n",
      "Epoch 196/200\n",
      "614/614 [==============================] - 0s 76us/step - loss: 0.2449 - acc: 0.9072\n",
      "Epoch 197/200\n",
      "614/614 [==============================] - 0s 80us/step - loss: 0.2419 - acc: 0.9055\n",
      "Epoch 198/200\n",
      "614/614 [==============================] - 0s 78us/step - loss: 0.2408 - acc: 0.9072\n",
      "Epoch 199/200\n",
      "614/614 [==============================] - 0s 75us/step - loss: 0.2419 - acc: 0.9104\n",
      "Epoch 200/200\n",
      "614/614 [==============================] - 0s 74us/step - loss: 0.2395 - acc: 0.9121\n"
     ]
    },
    {
     "data": {
      "text/plain": [
       "<keras.callbacks.History at 0x21e652df5c0>"
      ]
     },
     "execution_count": 292,
     "metadata": {},
     "output_type": "execute_result"
    }
   ],
   "source": [
    "#fitting the model\n",
    "model.fit(X_train , y_train , epochs = 200 , verbose = True)"
   ]
  },
  {
   "cell_type": "code",
   "execution_count": 310,
   "metadata": {},
   "outputs": [
    {
     "name": "stdout",
     "output_type": "stream",
     "text": [
      "614/614 [==============================] - 0s 32us/step\n",
      "Training scores :91.36807817589576 %   \n"
     ]
    }
   ],
   "source": [
    "#Evaluating the model using training set\n",
    "training_scores = model.evaluate(X_train , y_train)\n",
    "print('Training scores :{} %   '.format(training_scores[1]*100))"
   ]
  },
  {
   "cell_type": "code",
   "execution_count": 313,
   "metadata": {},
   "outputs": [
    {
     "name": "stdout",
     "output_type": "stream",
     "text": [
      "154/154 [==============================] - 0s 54us/step\n",
      "Training scores :79.2207789111447 %   \n"
     ]
    }
   ],
   "source": [
    "#Evaluating the model using testing set\n",
    "test_scores = model.evaluate(X_test , y_test)\n",
    "print('Training scores :{} %   '.format(test_scores[1]*100))"
   ]
  },
  {
   "cell_type": "markdown",
   "metadata": {},
   "source": [
    "#### While predicting the model tells us that it classifies correctly with 80% accuracy"
   ]
  },
  {
   "cell_type": "code",
   "execution_count": 317,
   "metadata": {},
   "outputs": [],
   "source": [
    "#confusion matrix\n",
    "y_test_pred = model.predict_classes(X_test)"
   ]
  },
  {
   "cell_type": "code",
   "execution_count": 321,
   "metadata": {},
   "outputs": [],
   "source": [
    "cm = confusion_matrix(y_test,y_test_pred)"
   ]
  },
  {
   "cell_type": "code",
   "execution_count": 328,
   "metadata": {},
   "outputs": [
    {
     "data": {
      "text/plain": [
       "<matplotlib.axes._subplots.AxesSubplot at 0x21e67ab2c18>"
      ]
     },
     "execution_count": 328,
     "metadata": {},
     "output_type": "execute_result"
    },
    {
     "data": {
      "image/png": "[encoded data removed]",
      "text/plain": [
       "<Figure size 432x288 with 1 Axes>"
      ]
     },
     "metadata": {
      "needs_background": "light"
     },
     "output_type": "display_data"
    }
   ],
   "source": [
    "#using heatmap we can visualize effectively\n",
    "sns.heatmap(cm , annot = True , xticklabels = ['No Diabetes' , 'Diabetes'],yticklabels = ['No diabetes' , 'Diabetes'],\n",
    "            cbar = False )"
   ]
  },
  {
   "cell_type": "code",
   "execution_count": 337,
   "metadata": {},
   "outputs": [],
   "source": [
    "#ROC Curve  - for classification (to seek the model perfpormance in a better way)\n",
    "#sklearn provides roc_curve\n",
    "y_pred_probability = model.predict(X_test)  #  returns the probability values - sigmoid\n"
   ]
  },
  {
   "cell_type": "code",
   "execution_count": 338,
   "metadata": {},
   "outputs": [],
   "source": [
    "fpr , tpr , thresholds = roc_curve(y_test , y_pred_probability)"
   ]
  },
  {
   "cell_type": "markdown",
   "metadata": {},
   "source": [
    "fpr - false positive rate        \n",
    "tpr - True positve rate"
   ]
  },
  {
   "cell_type": "code",
   "execution_count": 379,
   "metadata": {},
   "outputs": [
    {
     "data": {
      "image/png": "[encoded data removed]",
      "text/plain": [
       "<Figure size 432x288 with 1 Axes>"
      ]
     },
     "metadata": {
      "needs_background": "light"
     },
     "output_type": "display_data"
    }
   ],
   "source": [
    "#plotting the roc auc curve \n",
    "plt.plot(fpr,tpr)\n",
    "plt.plot([0,1],[0,1],'b--')\n",
    "plt.title('Roc_Auc curve')\n",
    "plt.xlabel('False positive rate')\n",
    "plt.ylabel('True positive rate')\n",
    "plt.show()"
   ]
  },
  {
   "cell_type": "markdown",
   "metadata": {},
   "source": [
    "### The model is good at prediction which gives 80% accuracy"
   ]
  },
  {
   "cell_type": "code",
   "execution_count": null,
   "metadata": {},
   "outputs": [],
   "source": []
  },
  {
   "cell_type": "code",
   "execution_count": null,
   "metadata": {},
   "outputs": [],
   "source": []
  },
  {
   "cell_type": "code",
   "execution_count": null,
   "metadata": {},
   "outputs": [],
   "source": []
  }
 ],
 "metadata": {
  "kernelspec": {
   "display_name": "Python 3",
   "language": "python",
   "name": "python3"
  },
  "language_info": {
   "codemirror_mode": {
    "name": "ipython",
    "version": 3
   },
   "file_extension": ".py",
   "mimetype": "text/x-python",
   "name": "python",
   "nbconvert_exporter": "python",
   "pygments_lexer": "ipython3",
   "version": "3.7.1"
  }
 },
 "nbformat": 4,
 "nbformat_minor": 2
}
